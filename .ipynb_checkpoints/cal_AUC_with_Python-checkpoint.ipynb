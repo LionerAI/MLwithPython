{
 "cells": [
  {
   "cell_type": "markdown",
   "metadata": {},
   "source": [
    "# AUC with Python\n",
    "    1.几何意义\n",
    "    2.概率意义--排序-》统计\n",
    "    3.概率意义--直方图-》统计"
   ]
  },
  {
   "cell_type": "markdown",
   "metadata": {},
   "source": [
    "# 数据准备"
   ]
  },
  {
   "cell_type": "code",
   "execution_count": 8,
   "metadata": {
    "collapsed": true
   },
   "outputs": [],
   "source": [
    "import random\n",
    "import time\n",
    "import pandas as pd\n",
    "import numpy as np"
   ]
  },
  {
   "cell_type": "code",
   "execution_count": 9,
   "metadata": {},
   "outputs": [],
   "source": [
    "def gen_label_pred(n_sample):\n",
    "    \"\"\"\n",
    "    随机生成n个样本的标签和预测值\n",
    "    \"\"\"\n",
    "    labels = [0 for _ in range(n_sample//2)] + [1 for _ in range(n_sample//2)]\n",
    "    preds = [random.random()*0.7 for _ in range(n_sample//2)] + [(random.random() + 1)/2 for _ in range(n_sample//2)]\n",
    "\n",
    "\n",
    "    return labels,preds\n"
   ]
  },
  {
   "cell_type": "code",
   "execution_count": 3,
   "metadata": {},
   "outputs": [],
   "source": [
    "def timeit(func):\n",
    "    \"\"\"\n",
    "    装饰器，计算函数执行时间\n",
    "    \"\"\"\n",
    "    def wrapper(*args, **kwargs):\n",
    "        time_start = time.time()\n",
    "        result = func(*args, **kwargs)\n",
    "        time_end = time.time()\n",
    "        exec_time = time_end - time_start\n",
    "        print(\"{function} exec time: {time}s\".format(function=func.__name__,time=exec_time))\n",
    "        return result\n",
    "    return wrapper"
   ]
  },
  {
   "cell_type": "markdown",
   "metadata": {},
   "source": [
    "# 法1 -- 面积法"
   ]
  },
  {
   "cell_type": "code",
   "execution_count": 10,
   "metadata": {},
   "outputs": [],
   "source": [
    "@timeit\n",
    "def area_auc(labels,preds):\n",
    "\n",
    "    data=pd.DataFrame(index=range(0,n_sample),columns=('probability','label'))\n",
    "    data['label']=np.array(labels)\n",
    "    data['probability']=np.array(preds)\n",
    "    \n",
    "    #计算 TN/FP/TP/FN\n",
    "    cm=np.arange(4).reshape(2,2)\n",
    "    cm[0,0]=len(data[data['label']==0][data['probability']<0.5]) #TN\n",
    "    cm[0,1]=len(data[data['label']==0][data['probability']>=0.5])#FP\n",
    "    cm[1,0]=len(data[data['label']==1][data['probability']<0.5]) #FN\n",
    "    cm[1,1]=len(data[data['label']==1][data['probability']>=0.5])#TP\n",
    "\n",
    "    #计算TPR,FPR\n",
    "    data.sort_values('probability',inplace=True,ascending=False)\n",
    "    TPRandFPR=pd.DataFrame(index=range(len(data)),columns=('TPR','FPR'))\n",
    "    for j in range(len(data)):\n",
    "        #以每一个概率为分类的阈值，统计此时正例和反例的数量，\n",
    "        data1=data.head(n=j+1)\n",
    "\n",
    "        FPR=len(data1[data1['label']==0])/float(len(data[data['label']==0]))  #假正例的数量/反例的数量\n",
    "        TPR=len(data1[data1['label']==1])/float(len(data[data['label']==1])) #真正例的数量/正例的数量\n",
    "\n",
    "        TPRandFPR.iloc[j]=[TPR,FPR]\n",
    "\n",
    "    # 计算AUC  ,计算小矩形的面积之和\n",
    "    auc = 0.\n",
    "    prev_x = 0\n",
    "    for x,y in zip(TPRandFPR.FPR,TPRandFPR.TPR):\n",
    "        if x != prev_x:\n",
    "            auc += (x - prev_x) * y\n",
    "            prev_x = x\n",
    "\n",
    "    return auc"
   ]
  },
  {
   "cell_type": "markdown",
   "metadata": {},
   "source": [
    "# 法二:概率意义--排序+统计"
   ]
  },
  {
   "cell_type": "code",
   "execution_count": 5,
   "metadata": {
    "collapsed": true
   },
   "outputs": [],
   "source": [
    "@timeit\n",
    "def naive_auc(labels,preds):\n",
    "    \"\"\"\n",
    "      先排序，然后统计有多少正负样本对满足：正样本预测值>负样本预测值, 再除以总的正负样本对个数\n",
    "     复杂度 O(NlogN), N为样本数\n",
    "    \"\"\"\n",
    "    n_pos = sum(labels)\n",
    "    n_neg = len(labels) - n_pos\n",
    "    total_pair = n_pos * n_neg\n",
    "    \n",
    "    labels_preds = zip(labels,preds)\n",
    "    labels_preds = sorted(labels_preds,key=lambda x:x[1]) #对概率值排序\n",
    "    accumulated_neg = 0 #统计负样本出现的个数\n",
    "    satisfied_pair = 0  #统计满足条件的样本对的个数\n",
    "    for i in range(len(labels_preds)):\n",
    "        if labels_preds[i][0] == 1:\n",
    "            satisfied_pair += accumulated_neg\n",
    "        else:\n",
    "            accumulated_neg += 1\n",
    "\n",
    "    return satisfied_pair / float(total_pair)"
   ]
  },
  {
   "attachments": {
    "image.png": {
     "image/png": "[encoded data removed]"
    }
   },
   "cell_type": "markdown",
   "metadata": {},
   "source": [
    "# 法三 -- 概率意义--直方图+统计\n",
    "![image.png](attachment:image.png)"
   ]
  },
  {
   "cell_type": "code",
   "execution_count": 6,
   "metadata": {
    "collapsed": true
   },
   "outputs": [],
   "source": [
    "@timeit\n",
    "def approximate_auc(labels,preds,n_bins=100):\n",
    "    \"\"\"\n",
    "    近似方法，将预测值分桶(n_bins)，对正负样本分别构建直方图，再统计满足条件的正负样本对\n",
    "    复杂度 O(N)\n",
    "    这种方法有什么缺点？怎么分桶？一般100-1000效果都不错\n",
    "    \n",
    "    \"\"\"\n",
    "    n_pos = sum(labels)\n",
    "    n_neg = len(labels) - n_pos\n",
    "    total_pair = n_pos * n_neg\n",
    "    \n",
    "    pos_histogram = [0 for _ in range(n_bins)]\n",
    "    neg_histogram = [0 for _ in range(n_bins)]\n",
    "    bin_width = 1.0 / n_bins\n",
    "    for i in range(len(labels)):\n",
    "        nth_bin = int(preds[i]/bin_width)\n",
    "        if labels[i]==1:\n",
    "            pos_histogram[nth_bin] += 1\n",
    "        else:\n",
    "            neg_histogram[nth_bin] += 1\n",
    "    \n",
    "    accumulated_neg = 0\n",
    "    satisfied_pair = 0\n",
    "    for i in range(n_bins):\n",
    "        satisfied_pair += (pos_histogram[i]*accumulated_neg + pos_histogram[i]*neg_histogram[i]*0.5)\n",
    "        accumulated_neg += neg_histogram[i]\n",
    "    \n",
    "    return satisfied_pair / float(total_pair)"
   ]
  },
  {
   "cell_type": "markdown",
   "metadata": {},
   "source": [
    "# 测试"
   ]
  },
  {
   "cell_type": "code",
   "execution_count": 15,
   "metadata": {},
   "outputs": [
    {
     "name": "stderr",
     "output_type": "stream",
     "text": [
      "C:\\Users\\Zhao\\Miniconda3\\lib\\site-packages\\ipykernel_launcher.py:9: UserWarning: Boolean Series key will be reindexed to match DataFrame index.\n",
      "  if __name__ == '__main__':\n",
      "C:\\Users\\Zhao\\Miniconda3\\lib\\site-packages\\ipykernel_launcher.py:10: UserWarning: Boolean Series key will be reindexed to match DataFrame index.\n",
      "  # Remove the CWD from sys.path while we load stuff.\n",
      "C:\\Users\\Zhao\\Miniconda3\\lib\\site-packages\\ipykernel_launcher.py:11: UserWarning: Boolean Series key will be reindexed to match DataFrame index.\n",
      "  # This is added back by InteractiveShellApp.init_path()\n",
      "C:\\Users\\Zhao\\Miniconda3\\lib\\site-packages\\ipykernel_launcher.py:12: UserWarning: Boolean Series key will be reindexed to match DataFrame index.\n",
      "  if sys.path[0] == '':\n"
     ]
    },
    {
     "name": "stdout",
     "output_type": "stream",
     "text": [
      "area_auc exec time: 41.72503924369812s\n",
      "naive_auc exec time: 0.00701904296875s\n",
      "approximate_auc exec time: 0.004010915756225586s\n",
      "area auc result:0.945862\n",
      "naive auc result:0.945862\n",
      "approximate auc result:0.945906\n"
     ]
    }
   ],
   "source": [
    "if __name__ == \"__main__\":\n",
    "    n_sample = 10000\n",
    "    labels,preds = gen_label_pred(n_sample)\n",
    "    area_auc_rst = area_auc(labels,preds)\n",
    "    naive_auc_rst = naive_auc(labels,preds)\n",
    "    approximate_auc_rst = approximate_auc(labels,preds)\n",
    "    print (\"area auc result:%f\"%area_auc_rst)\n",
    "    print (\"naive auc result:%f\"%naive_auc_rst)\n",
    "    print (\"approximate auc result:%f\"%approximate_auc_rst)\n",
    "\n",
    "    \"\"\"\n",
    "    area_auc exec time: 41.72503924369812s\n",
    "    naive_auc exec time: 0.00701904296875s\n",
    "    approximate_auc exec time: 0.004010915756225586s\n",
    "    area auc result:0.945862\n",
    "    naive auc result:0.945862\n",
    "    approximate auc result:0.945906\n",
    "    \"\"\""
   ]
  },
  {
   "cell_type": "code",
   "execution_count": null,
   "metadata": {
    "collapsed": true
   },
   "outputs": [],
   "source": []
  }
 ],
 "metadata": {
  "kernelspec": {
   "display_name": "Python 3",
   "language": "python",
   "name": "python3"
  },
  "language_info": {
   "codemirror_mode": {
    "name": "ipython",
    "version": 3
   },
   "file_extension": ".py",
   "mimetype": "text/x-python",
   "name": "python",
   "nbconvert_exporter": "python",
   "pygments_lexer": "ipython3",
   "version": "3.6.3"
  }
 },
 "nbformat": 4,
 "nbformat_minor": 2
}
